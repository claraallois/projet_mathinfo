{
 "cells": [
  {
   "cell_type": "markdown",
   "metadata": {},
   "source": [
    "     Pierre-François SAUNIER\n",
    "     Clara ALLOIS\n",
    "\n",
    "\n",
    "# PROJET NUMERIQUE: LIGNES DE NIVEAU\n"
   ]
  },
  {
   "cell_type": "markdown",
   "metadata": {},
   "source": [
    "# 1ère méthode : par dichotomie (PF modifie)"
   ]
  },
  {
   "cell_type": "markdown",
   "metadata": {},
   "source": [
    "## Contour simple:\n",
    "\n",
    "\n"
   ]
  },
  {
   "cell_type": "markdown",
   "metadata": {},
   "source": [
    "### Amorce : \n",
    "\n"
   ]
  },
  {
   "cell_type": "markdown",
   "metadata": {},
   "source": [
    "f étant continûment différentiable, elle est continue, ainsi on est certain qu'il existe un t dans [0,1]  tq f(0,t)=c si (f(0,1)-c)*(f(0,0)-c)<0 d'après le théorème des valeurs intermédiaires.\n",
    "\n"
   ]
  },
  {
   "cell_type": "code",
   "execution_count": null,
   "metadata": {},
   "outputs": [],
   "source": [
    "def find_seed(f,c=0,eps=2**-26):\n",
    "    \n",
    "    def g(x,y):\n",
    "        return f(x,y)-c\n",
    "    a=0\n",
    "    b=1\n",
    "    if g(0,0)*g(0,1)>0:\n",
    "        return None\n",
    "    \n",
    "    while b-a>=eps:\n",
    "        mil=(a+b)/2\n",
    "        if g(0,a)*g(0,mil)<=0:\n",
    "            b=mil\n",
    "        else : \n",
    "            a=mil\n",
    "    return a\n",
    "\n"
   ]
  },
  {
   "cell_type": "code",
   "execution_count": null,
   "metadata": {},
   "outputs": [],
   "source": [
    "def f(x,y): return x**2+y**2\n",
    "find_seed(f,0.5,2**-26)"
   ]
  },
  {
   "cell_type": "markdown",
   "metadata": {},
   "source": [
    "0,707**2=0.5 : ok ça fonctionne (ici x=0)"
   ]
  },
  {
   "cell_type": "markdown",
   "metadata": {},
   "source": [
    "### Propagation:"
   ]
  },
  {
   "cell_type": "markdown",
   "metadata": {},
   "source": [
    "####  on balaye régulièrement la figure avec un pas régulier suffisament petit et on utilise la dichotomie."
   ]
  },
  {
   "cell_type": "code",
   "execution_count": null,
   "metadata": {},
   "outputs": [],
   "source": [
    "\n",
    "def find_seed2(f,abscisse,c=0,eps=2**-26):\n",
    "    \n",
    "    def g(x,y):\n",
    "        return f(x,y)-c\n",
    "    \n",
    "    a=0\n",
    "    b=1\n",
    "    if g(abscisse,0)*g(abscisse,1)>0:\n",
    "        return None\n",
    "    \n",
    "    while b-a>=eps:\n",
    "        mil=(a+b)/2\n",
    "        if g(abscisse,a)*g(abscisse,mil)<=0:\n",
    "            b=mil\n",
    "        else : \n",
    "            a=mil\n",
    "    return a\n",
    "\n",
    "\n",
    "\n",
    "def simple_contour(f,c=0.0,delta=0.01,eps=2**-26):\n",
    "    pas=delta/sqrt(2)\n",
    "    abscisse=0.0\n",
    "    X=[]\n",
    "    Y=[]\n",
    "    while abscisse<=1 and find_seed2(f,abscisse,c,eps)!=None:\n",
    "        X.append(abscisse)\n",
    "        Y.append(find_seed2(f,abscisse,c,eps))\n",
    "        abscisse+=pas\n",
    "        \n",
    "    return (X,Y)\n",
    "\n",
    "\n"
   ]
  },
  {
   "cell_type": "code",
   "execution_count": null,
   "metadata": {},
   "outputs": [],
   "source": [
    "import matplotlib.pyplot as plt\n",
    "\n",
    "##1er exemple\n",
    "def f(x,y):\n",
    "    return x**2+y**2\n",
    "\n",
    "(X,Y)=simple_contour(f,c=1.0,delta=0.01,eps=2**-26)\n",
    "plt.plot(X,Y)\n",
    "plt.show()\n",
    "\n"
   ]
  },
  {
   "cell_type": "code",
   "execution_count": null,
   "metadata": {},
   "outputs": [],
   "source": [
    "import matplotlib.pyplot as plt\n",
    "\n",
    "##2eme exemple\n",
    "def f(x,y):\n",
    "    return (exp(-x**2-y**2)-exp(-(x-1)**2-(y-1)**2))\n",
    "\n",
    "(X,Y)=simple_contour(f,c=0.5,delta=0.001,eps=2**-26)\n",
    "plt.plot(X,Y)\n",
    "\n",
    "\n",
    "(X1,Y1)=simple_contour(f,c=0,delta=0.001,eps=2**-26)\n",
    "plt.plot(X1,Y1)\n",
    "\n",
    "\n",
    "(X2,Y2)=simple_contour(f,c=0.25,delta=0.001,eps=2**-26)\n",
    "plt.plot(X2,Y2)\n",
    "\n",
    "plt.show()\n",
    "\n",
    "\n",
    "\n"
   ]
  },
  {
   "cell_type": "markdown",
   "metadata": {},
   "source": [
    "Commentaires: Cette méthode fonctionne mais présente des inconvénients :\n",
    "\n",
    "-couteuse car non optimisée\n",
    "\n",
    "-la méthode de dichotomie permet de détecter un seul zéro d'où pb si la ligne fait des boucles.\n",
    "\n",
    "Il faut donc redéfinir une méthode dichotomique ou utliser une autre méthode.\n",
    "On a choisit d'utiliser une méthode de Newton pour cibler plus précisément la recherche."
   ]
  },
  {
   "cell_type": "markdown",
   "metadata": {},
   "source": [
    "## Contour complexe"
   ]
  },
  {
   "cell_type": "markdown",
   "metadata": {},
   "source": [
    "#### Dichotomie brute, on balaye horizontalement et verticalement chaque carré qui forment la portion rectangulaire"
   ]
  },
  {
   "cell_type": "code",
   "execution_count": null,
   "metadata": {},
   "outputs": [],
   "source": [
    "import numpy as np\n",
    "from matplotlib import pyplot as plt\n",
    "\n",
    "def find_seed_ordonnee(f,abscisse,ybas,yhaut,c,eps=2**(-26)): #dichotomie verticale à une abscisse fixée avec une limite basse et une limite haute\n",
    "    \n",
    "    def g(x,y):\n",
    "        return (f(x,y)-c)\n",
    "    \n",
    "    if g(abscisse,ybas)*g(abscisse,yhaut)>0:\n",
    "        return(None)\n",
    "    a=ybas\n",
    "    b=yhaut\n",
    "    \n",
    "    while b-a >= eps:\n",
    "        mil=(a+b)/2\n",
    "        if g(abscisse,a)*g(abscisse,mil)<=0:\n",
    "            b=mil\n",
    "        else:\n",
    "            a=mil\n",
    "    return(b)\n",
    "\n",
    "\n",
    "##############\n",
    "def find_seed_abscisse(f,ordonnee,xgauche,xdroit,c,eps=2**(-26)): #dichotomie horizontale à une ordonée fixée avec une limite basse et une limite haute\n",
    "    \n",
    "    \n",
    "    def g(x,y):\n",
    "        return (f(x,y)-c)\n",
    "    \n",
    "    if g(xgauche,ordonnee)*g(xdroit,ordonnee)>0:\n",
    "        return(None)\n",
    "    a=xgauche\n",
    "    b=xdroit\n",
    "    \n",
    "    while b-a >= eps:\n",
    "        mil=(a+b)/2\n",
    "        if g(a,ordonnee)*g(mil,ordonnee)<=0:\n",
    "            b=mil\n",
    "        else:\n",
    "            a=mil\n",
    "    return(b)\n",
    "\n",
    "    \n",
    "#######\n",
    "def contour(f,xgauche,xdroit,ybas,yhaut,c,delta=0.01,eps=2**-13):\n",
    "    \n",
    "    pas = delta / np.sqrt(2)\n",
    "    \n",
    "    \n",
    "    \n",
    "    abscisse = xgauche\n",
    "    X1=[]\n",
    "    Y1=[]\n",
    "    while abscisse<=xdroit and find_seed_ordonnee(f,abscisse,ybas,yhaut,c,eps)!=None:\n",
    "        X1.append(abscisse)\n",
    "        Y1.append(find_seed_ordonnee(f,abscisse,ybas,yhaut,c,eps))\n",
    "        abscisse=abscisse + pas\n",
    "    plt.plot(X1,Y1)\n",
    "    # on balaye verticalement de xgauche à xdroite \n",
    "    \n",
    "    \n",
    "    \n",
    "    \n",
    "    abscisse = xdroit\n",
    "    X2=[]\n",
    "    Y2=[]\n",
    "    while abscisse>=xgauche and find_seed_ordonnee(f,abscisse,ybas,yhaut,c,eps)!=None:\n",
    "        X2.append(abscisse)\n",
    "        Y2.append(find_seed_ordonnee(f,abscisse,ybas,yhaut,c,eps))\n",
    "        \n",
    "        abscisse=abscisse - pas\n",
    "    plt.plot(X2,Y2)\n",
    "    # on balaye verticalement de xdroit à xgauche \n",
    "    \n",
    "    \n",
    "    \n",
    "    ordonnee = ybas\n",
    "    X3=[]\n",
    "    Y3=[]\n",
    "    while ordonnee<=yhaut and find_seed_abscisse(f,ordonnee,xgauche,xdroit,c,eps)!=None:\n",
    "        X3.append(find_seed_abscisse(f,ordonnee,xgauche,xdroit,c,eps))\n",
    "        Y3.append(ordonnee)\n",
    "        ordonnee=ordonnee + pas\n",
    "    plt.plot(X3,Y3)\n",
    "    #on balaye horizontalement de ybas à yhaut\n",
    "    \n",
    "\n",
    "    ordonnee = yhaut\n",
    "    X4=[]\n",
    "    Y4=[]\n",
    "    while ordonnee>=ybas and find_seed_abscisse(f,ordonnee,xgauche,xdroit,c,eps)!=None:\n",
    "        X4.append(find_seed_abscisse(f,ordonnee,xgauche,xdroit,c,eps))\n",
    "        Y4.append(ordonnee)\n",
    "        ordonnee=ordonnee - pas\n",
    "    plt.plot(X4,Y4)\n",
    "    #on balaye horizontalement de yhaut à ybas\n",
    "\n",
    "    \n"
   ]
  },
  {
   "cell_type": "code",
   "execution_count": null,
   "metadata": {},
   "outputs": [],
   "source": [
    "\n",
    "def f(x,y):\n",
    "    return (exp(-x**2-y**2)-exp(-(x-1)**2-(y-1)**2))\n",
    "\n",
    "####\n",
    "cote = [-1 , 0 , 1 , 2 ]\n",
    "for i in range(len(cote)-1):\n",
    "    for j in range(len(cote)-1):\n",
    "        for c in [-1.5 , -1 , -0.5 , 0 , 0.5 , 1 , 1.5 ] :\n",
    "            contour(f,cote[i],cote[i+1],cote[j],cote[j+1],c)\n",
    "#on cherche pour la fonction f les lignes de niveau entre -1,5 et 1,5.\n",
    "#pour ce faire on découpe la figure en plusieurs carrés dont les abscisses et ordonnes limites sont listées dans cote\n"
   ]
  },
  {
   "cell_type": "markdown",
   "metadata": {},
   "source": [
    "Rq: ce programme ne donne pas toutes les lignes de niveau sur mon ordi(Clara) mais sur celui de PF on obtient une figure plus complète..."
   ]
  },
  {
   "cell_type": "markdown",
   "metadata": {},
   "source": [
    "# 2ème méthode moins naïve : en utilisant Newton"
   ]
  },
  {
   "cell_type": "code",
   "execution_count": null,
   "metadata": {},
   "outputs": [],
   "source": [
    "import autograd\n",
    "import autograd.numpy as np\n",
    "from math import *\n",
    "from matplotlib import pyplot as plt\n",
    "###\n",
    "\n",
    "\n",
    "def gradient(f,x,y): \n",
    "    g = autograd.grad\n",
    "    return np.r_[g(f,0)(x,y) , g(f,1)(x,y)]\n",
    "\n",
    "\n"
   ]
  },
  {
   "cell_type": "markdown",
   "metadata": {},
   "source": [
    "On reprend la méthode du poly (en annexe) pour calculer le gradient"
   ]
  },
  {
   "cell_type": "code",
   "execution_count": null,
   "metadata": {},
   "outputs": [],
   "source": [
    "\n",
    "def newton(f,x0,n=10):\n",
    "    x = x0\n",
    "    derivee=autograd.grad(f)\n",
    "    for i in range(n):\n",
    "        x=x-f(x)/derivee(x)\n",
    "    return x\n",
    "\n"
   ]
  },
  {
   "cell_type": "markdown",
   "metadata": {},
   "source": [
    "Recherche de zéro par la méthode de Newton"
   ]
  },
  {
   "cell_type": "code",
   "execution_count": null,
   "metadata": {},
   "outputs": [],
   "source": [
    "\n",
    "def point_suivant(f,c,x0,y0,delta):\n",
    "    grad = gradient(f,x0,y0)                                #on calcule le gradient en (x0,y0)\n",
    "    grad = grad / sqrt( grad[0]**2 + grad[1]**2)           #on normalise le gradient\n",
    "    tangente = (grad[1] , -grad[0] )                        # la tangente est normale au gradient. Si le gradient vaut (a,b) la tangente est (-b,a)\n",
    "    theta0 = atan(tangente[1]/tangente[0])                 #on récupère l'angle correspondant à théta0\n",
    "    \n",
    "    \n",
    "    \n",
    "    def g(theta):                                       #g paramétrise f sur le cercle de rayon delta et de centre (x0,y0)\n",
    "        return f(x0+delta * np.cos(theta) , y0 + delta * np.sin(theta) ) - c\n",
    "    thetafinal = newton(g , theta0)\n",
    "    \n",
    "    return (x0 + delta * np.cos(thetafinal) , y0 + delta * np.sin(thetafinal) ) #renvoie le point suivant de notre ligne de niveau\n",
    "\n",
    "\n",
    "\n",
    "\n",
    "\n"
   ]
  },
  {
   "cell_type": "markdown",
   "metadata": {},
   "source": [
    "on calcule le point suivant de notre ligne de niveau "
   ]
  },
  {
   "cell_type": "code",
   "execution_count": null,
   "metadata": {},
   "outputs": [],
   "source": [
    "\n",
    "x0,y0 = -0.5 , 0.0\n",
    "X=[x0]\n",
    "Y=[y0]\n",
    "x,y = x0 , y0\n",
    "for i in range(40):\n",
    "    x,y = point_suivant(f,f(x0,y0),x,y,0.1)\n",
    "    X.append(x)\n",
    "    Y.append(y)\n",
    "plt.clf()\n",
    "plt.plot(X,Y)\n",
    "plt.show()\n",
    "\n"
   ]
  },
  {
   "cell_type": "code",
   "execution_count": null,
   "metadata": {},
   "outputs": [],
   "source": []
  }
 ],
 "metadata": {
  "celltoolbar": "Format de la Cellule Texte Brut",
  "kernelspec": {
   "display_name": "Python 3",
   "language": "python",
   "name": "python3"
  },
  "language_info": {
   "codemirror_mode": {
    "name": "ipython",
    "version": 3
   },
   "file_extension": ".py",
   "mimetype": "text/x-python",
   "name": "python",
   "nbconvert_exporter": "python",
   "pygments_lexer": "ipython3",
   "version": "3.7.3"
  }
 },
 "nbformat": 4,
 "nbformat_minor": 2
}
