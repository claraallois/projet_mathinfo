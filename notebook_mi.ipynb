{
 "cells": [
  {
   "cell_type": "markdown",
   "metadata": {},
   "source": [
    "     Pierre-François SAUNIER\n",
    "     Clara ALLOIS\n",
    "\n",
    "\n",
    "# PROJET NUMERIQUE: LIGNES DE NIVEAU\n"
   ]
  },
  {
   "cell_type": "markdown",
   "metadata": {},
   "source": [
    "Quelques installations nécessaires :"
   ]
  },
  {
   "cell_type": "code",
   "execution_count": 1,
   "metadata": {},
   "outputs": [],
   "source": [
    "from math import *\n",
    "import matplotlib.pyplot as plt\n",
    "import autograd\n",
    "from autograd import numpy as np"
   ]
  },
  {
   "cell_type": "markdown",
   "metadata": {},
   "source": [
    "# 1ère méthode : par dichotomie "
   ]
  },
  {
   "cell_type": "markdown",
   "metadata": {},
   "source": [
    "## Contour simple:\n",
    "\n",
    "\n"
   ]
  },
  {
   "cell_type": "markdown",
   "metadata": {},
   "source": [
    "### Amorce : \n",
    "\n"
   ]
  },
  {
   "cell_type": "markdown",
   "metadata": {},
   "source": [
    "La fonction $f$ étant continûment différentiable, $y \\mapsto f(0,y)$ est en particulier continue.\n",
    "\n",
    "Ainsi, le théorème des valeurs intermédiaires assure que si $ c \\in [f(0,0) , f(0,1)]$  ( resp $[f(0,1) , f(0,0)]$ ) alors il existe $ t \\in [0 ; 1]$ tel que $f(0,t) = c$."
   ]
  },
  {
   "cell_type": "markdown",
   "metadata": {},
   "source": [
    "On écrit alors une recherche de zéro par dichotomie, que l'on applique à $y \\mapsto g(y) := f(0,y) - c$"
   ]
  },
  {
   "cell_type": "code",
   "execution_count": 2,
   "metadata": {},
   "outputs": [],
   "source": [
    "def find_seed(f,c=0,eps=10**-5):\n",
    "    \n",
    "    \n",
    "    def g(y):\n",
    "        return f(0,y)-c\n",
    "   \n",
    "    a=0\n",
    "    b=1\n",
    "    if g(a)*g(b)>0:\n",
    "        return None\n",
    "    \n",
    "    \n",
    "    while b-a>=eps:\n",
    "        mil=(a+b)/2\n",
    "        if g(a)*g(mil)<=0:\n",
    "            b=mil\n",
    "        else : \n",
    "            a=mil\n",
    "    \n",
    "    return a"
   ]
  },
  {
   "cell_type": "markdown",
   "metadata": {},
   "source": [
    "Un premier test simple :"
   ]
  },
  {
   "cell_type": "code",
   "execution_count": 3,
   "metadata": {},
   "outputs": [
    {
     "data": {
      "text/plain": [
       "0.7070999145507812"
      ]
     },
     "execution_count": 3,
     "metadata": {},
     "output_type": "execute_result"
    }
   ],
   "source": [
    "def f(x,y):\n",
    "    return x**2+y**2\n",
    "\n",
    "find_seed(f,0.5)"
   ]
  },
  {
   "cell_type": "markdown",
   "metadata": {},
   "source": [
    "$0^2 + 0,707^2=0.5$ : cela fonctionne (dans la dichotomie de find_seed, on travaille à $x=0$)"
   ]
  },
  {
   "cell_type": "markdown",
   "metadata": {},
   "source": [
    "### Propagation:"
   ]
  },
  {
   "cell_type": "markdown",
   "metadata": {},
   "source": [
    "On utilise, dans notre première méthode naïve, cette dichotomie le long de diverses lignes verticales. On modifie find_seed de manière à pouvoir l'appliquer en différentes absisses (et plus seulement en $x=0$). \n",
    "\n",
    "Ici, l'appel $find$_$seed2(f,c,abscisse)$ renvoie le (ou un) réél $y \\in [0;1]$ tel que $f(abscisse,y) = c$."
   ]
  },
  {
   "cell_type": "code",
   "execution_count": 4,
   "metadata": {},
   "outputs": [],
   "source": [
    "def find_seed2(f,abscisse,c=0,eps=10**-5):\n",
    "    \n",
    "    def g(x,y):\n",
    "        return f(x,y)-c\n",
    "    \n",
    "    a=0\n",
    "    b=1\n",
    "    if g(abscisse,0)*g(abscisse,1)>0:\n",
    "        return None\n",
    "    \n",
    "    while b-a>=eps:\n",
    "        mil=(a+b)/2\n",
    "        if g(abscisse,a)*g(abscisse,mil)<=0:\n",
    "            b=mil\n",
    "        else : \n",
    "            a=mil\n",
    "    return a"
   ]
  },
  {
   "cell_type": "markdown",
   "metadata": {},
   "source": [
    "Définissons alors la fonction $simple$_$contour$, qui balaye horizontalement le carré $[0;1]^2$. La liste $X$ contient les abscisses (en l'occurence des pas réguliers) et $Y$ contient les valeurs correspondantes retournées par la dichotomie.\n",
    "\n",
    "On arrête la boucle lorsque les abscisses dépassent $1$ (on se limite ici au carré) ou lorsque l'appel à $find$_$seed2$ ne renvoie plus rien (si la ligne de niveau \"sort\" du carré)."
   ]
  },
  {
   "cell_type": "code",
   "execution_count": 5,
   "metadata": {},
   "outputs": [],
   "source": [
    "def simple_contour(f,c=0.0,delta=0.01,eps=10**-5):\n",
    "    pas=delta/sqrt(2)\n",
    "    abscisse=0.0\n",
    "    X=[]\n",
    "    Y=[]\n",
    "    while abscisse<=1 and find_seed2(f,abscisse,c,eps)!=None:\n",
    "        X.append(abscisse)\n",
    "        Y.append(find_seed2(f,abscisse,c,eps))\n",
    "        abscisse+=pas\n",
    "        \n",
    "    return (X,Y)"
   ]
  },
  {
   "cell_type": "markdown",
   "metadata": {},
   "source": [
    "Un premier exemple simple avec $f : (x,y) \\mapsto x^2 + y^2$ et la ligne de niveau de valeur $c=1$.\n",
    "\n",
    "On obtient effectivement l'arc de cercle correspondant, dans $[0;1]^2$."
   ]
  },
  {
   "cell_type": "code",
   "execution_count": 9,
   "metadata": {},
   "outputs": [
    {
     "data": {
      "image/png": "[encoded data removed]",
      "text/plain": [
       "<Figure size 432x288 with 1 Axes>"
      ]
     },
     "metadata": {
      "needs_background": "light"
     },
     "output_type": "display_data"
    }
   ],
   "source": [
    "#Exemple 1 : arc de cercle\n",
    "def f(x,y):\n",
    "    return x**2+y**2\n",
    "\n",
    "(X,Y)=simple_contour(f,c=1.0)\n",
    "plt.plot(X,Y)\n",
    "plt.axis('equal')\n",
    "plt.show()"
   ]
  },
  {
   "cell_type": "markdown",
   "metadata": {},
   "source": [
    "Essayons désormais avec la fonction proposée par l'énoncé du polycopié, et les lignes de niveaux dont les valeurs sont listées dans $L$.\n",
    "\n",
    "Remarquons que les lignes de niveau de valeurs négatives ne s'affichent pas. En effet, elles n'ont pas d'intersection avec l'arrête gauche du carré, et donc la boucle $while$ du code de $simple$_$contour$ s'arrête dès le premier tour.\n",
    "\n",
    "Ceci justifie la modification que l'on apporte ci-après : on balaiera le carré en partant de toutes les arrêtes."
   ]
  },
  {
   "cell_type": "code",
   "execution_count": 13,
   "metadata": {},
   "outputs": [
    {
     "data": {
      "image/png": "[encoded data removed]",
      "text/plain": [
       "<Figure size 432x288 with 1 Axes>"
      ]
     },
     "metadata": {
      "needs_background": "light"
     },
     "output_type": "display_data"
    }
   ],
   "source": [
    "#Exemple 2 : avec la fonction proposée par le polycopié\n",
    "def f(x,y):\n",
    "    return (exp(-x**2-y**2)-exp(-(x-1)**2-(y-1)**2))\n",
    "\n",
    "L =  [-0.7, -0.5, -0.25, 0, 0.25, 0.5, 0.7]\n",
    "\n",
    "for c in L:\n",
    "    X,Y = simple_contour(f,c)\n",
    "    plt.plot(X,Y)\n",
    "plt.axis('equal')\n",
    "plt.show()"
   ]
  },
  {
   "cell_type": "markdown",
   "metadata": {},
   "source": [
    "## Améliorations à cette méthode de dichotomie"
   ]
  },
  {
   "cell_type": "markdown",
   "metadata": {},
   "source": [
    "On définit la fonction $find$_$seed$_$ordonnee$. Elle fait le même travail que $find$_$seed2$, i.e de la dichotomie sur un segment vertical à une abscisse donnée. \n",
    "\n",
    "On lui rajoute les arguments $ybas$ et $yhaut$ pour délimiter l'arrête verticale en question (qui était l'arrête $[0;1]$ dans le code$find$_$seed2$)."
   ]
  },
  {
   "cell_type": "code",
   "execution_count": 14,
   "metadata": {},
   "outputs": [],
   "source": [
    "def find_seed_ordonnee(f,abscisse,ybas,yhaut,c,eps=10**-5):\n",
    "    \n",
    "    def g(x,y):\n",
    "        return (f(x,y)-c)\n",
    "    \n",
    "    if g(abscisse,ybas)*g(abscisse,yhaut)>0:\n",
    "        return(None)\n",
    "    a=ybas\n",
    "    b=yhaut\n",
    "    \n",
    "    while b-a >= eps:\n",
    "        mil=(a+b)/2\n",
    "        if g(abscisse,a)*g(abscisse,mil)<=0:\n",
    "            b=mil\n",
    "        else:\n",
    "            a=mil\n",
    "    return(b)"
   ]
  },
  {
   "cell_type": "markdown",
   "metadata": {},
   "source": [
    "De la même façon, $find$_$seed$_$abscisse$ fait le même travail, cette fois-ci le long d'une arrête horizontale. \n",
    "\n",
    "On lui donne donc l'ordonnée à laquelle on souhaite effectuer la dichotomie, ainsi que les valeurs $xgauche$ et $xdroit$ de l'arrête que l'on veut parcourir. "
   ]
  },
  {
   "cell_type": "code",
   "execution_count": 15,
   "metadata": {},
   "outputs": [],
   "source": [
    "def find_seed_abscisse(f,ordonnee,xgauche,xdroit,c,eps=10**-5):\n",
    "    \n",
    "    def g(x,y):\n",
    "        return (f(x,y)-c)\n",
    "    \n",
    "    if g(xgauche,ordonnee)*g(xdroit,ordonnee)>0:\n",
    "        return(None)\n",
    "    a=xgauche\n",
    "    b=xdroit\n",
    "    \n",
    "    while b-a >= eps:\n",
    "        mil=(a+b)/2\n",
    "        if g(a,ordonnee)*g(mil,ordonnee)<=0:\n",
    "            b=mil\n",
    "        else:\n",
    "            a=mil\n",
    "    return(b)"
   ]
  },
  {
   "cell_type": "markdown",
   "metadata": {},
   "source": [
    "Finalement, définissons $simple$_$contour2$. Les valeurs $xgauche$, $xdroit$, $ybas$ et $yhaut$ délimitent le carré que l'on étudie. \n",
    "\n",
    "On parcourt ensuite horizontalement (de gauche à droite puis de droite à gauche) et verticalement (de bas en haut puis de haut en bas) le carré afin de récupérer le long des quatre arrêtes le plus d'intersections avec des lignes de niveau, pour éviter le problème mentionné avec les valeurs négatives de l'exemple 2."
   ]
  },
  {
   "cell_type": "code",
   "execution_count": 16,
   "metadata": {},
   "outputs": [],
   "source": [
    "def simple_contour2(f,xgauche,xdroit,ybas,yhaut,c,delta=0.01,eps=10**-5):\n",
    "    pas = delta / np.sqrt(2)\n",
    "    \n",
    "    \n",
    "    \n",
    "    abscisse = xgauche\n",
    "    X1=[]\n",
    "    Y1=[]\n",
    "    while abscisse<=xdroit and find_seed_ordonnee(f,abscisse,ybas,yhaut,c,eps)!=None:\n",
    "        X1.append(abscisse)\n",
    "        Y1.append(find_seed_ordonnee(f,abscisse,ybas,yhaut,c,eps))\n",
    "        abscisse=abscisse + pas\n",
    "    plt.plot(X1,Y1)\n",
    "    \n",
    "    \n",
    "    \n",
    "    \n",
    "    \n",
    "    abscisse = xdroit\n",
    "    X2=[]\n",
    "    Y2=[]\n",
    "    while abscisse>=xgauche and find_seed_ordonnee(f,abscisse,ybas,yhaut,c,eps)!=None:\n",
    "        X2.append(abscisse)\n",
    "        Y2.append(find_seed_ordonnee(f,abscisse,ybas,yhaut,c,eps))\n",
    "        \n",
    "        abscisse=abscisse - pas\n",
    "    plt.plot(X2,Y2)\n",
    "    \n",
    "    \n",
    "    ordonnee = ybas\n",
    "    X3=[]\n",
    "    Y3=[]\n",
    "    while ordonnee<=yhaut and find_seed_abscisse(f,ordonnee,xgauche,xdroit,c,eps)!=None:\n",
    "        X3.append(find_seed_abscisse(f,ordonnee,xgauche,xdroit,c,eps))\n",
    "        Y3.append(ordonnee)\n",
    "        ordonnee=ordonnee + pas\n",
    "    plt.plot(X3,Y3)\n",
    "\n",
    "    ordonnee = yhaut\n",
    "    X4=[]\n",
    "    Y4=[]\n",
    "    while ordonnee>=ybas and find_seed_abscisse(f,ordonnee,xgauche,xdroit,c,eps)!=None:\n",
    "        X4.append(find_seed_abscisse(f,ordonnee,xgauche,xdroit,c,eps))\n",
    "        Y4.append(ordonnee)\n",
    "        ordonnee=ordonnee - pas\n",
    "    plt.plot(X4,Y4)\n",
    "    "
   ]
  },
  {
   "cell_type": "markdown",
   "metadata": {},
   "source": [
    "Essayons avec l'exemple de l'énoncé  $(x,y) \\mapsto 2\\  (\\ e^{-x^2 - y^2} - e^{-(x-1)^2 - (y-1)^2} )$\n",
    "\n",
    "On va regarder ce qu'il se passe sur le carré $[-1 ; 2]^2$. Pour ce faire, on découpe ce carré en plusieurs sous carré dont les abscisses et ordonnées limites sont stockées dans la liste $côté$.\n",
    "\n",
    "On recherche aussi différentes valeurs de lignes de niveau, contenues dans la liste $valeurs$.\n",
    "\n",
    "$ !!!! $$\\ \\ \\underline{Warning} :$ éxécuter la prochaine cellule prend une quinzaine de secondes."
   ]
  },
  {
   "cell_type": "code",
   "execution_count": 17,
   "metadata": {},
   "outputs": [
    {
     "data": {
      "image/png": "[encoded data removed]",
      "text/plain": [
       "<Figure size 432x288 with 1 Axes>"
      ]
     },
     "metadata": {
      "needs_background": "light"
     },
     "output_type": "display_data"
    }
   ],
   "source": [
    "def f(x,y):\n",
    "    return ( 2*(np.exp(-x**2-y**2) - np.exp(-(x-1)**2-(y-1)**2)))\n",
    "\n",
    "\n",
    "côté = [-1, 0, 1, 2]\n",
    "valeurs = [-1.5, -1, -0.5, 0, 0.5, 1, 1.5]\n",
    "\n",
    "for i in range(len(côté)-1):\n",
    "    \n",
    "    for j in range(len(côté)-1):\n",
    "    \n",
    "        for c in valeurs :\n",
    "        \n",
    "            simple_contour2(f,côté[i],côté[i+1],côté[j],côté[j+1],c)\n",
    "\n",
    "\n",
    "plt.show()"
   ]
  },
  {
   "cell_type": "markdown",
   "metadata": {},
   "source": [
    "Le résultat est visuellement satisfaisant. Notons évidemment une extrême lenteur dans la méthode : la dichotomie est lourde."
   ]
  },
  {
   "cell_type": "markdown",
   "metadata": {},
   "source": [
    "# 2ème méthode, moins naïve"
   ]
  },
  {
   "cell_type": "markdown",
   "metadata": {},
   "source": [
    "Ici, plutôt que d'user abruptement de dichotomies successives, on va véritablement $suivre$ la ligne de niveau. Placons-nous en régime de croisière (nous réfléchirons plus tard à l'initialisation).\n",
    "\n",
    "On est actuellement au point $(x_0 , y_0)$ sur notre ligne de niveau de valeur $c$. \n",
    "\n",
    "Pour trouver un point sur la ligne de niveau à une distance $delta$, on va étudier la fonction f le long du cercle de rayon $delta$ centré en $(x_0 , y_0)$. \n",
    "\n",
    "Par la méthode de Newton, on cherche sur ce cercle un point en lequel $f$ prend la valeur $c$. \n",
    "\n",
    "Pour initialiser correctement la méthode de Newton, on suit la tangente à la courbe au point $(x_0 , y_0)$.\n",
    "\n",
    "Calculons d'abord le gradient de $f$ en $(x,y)$."
   ]
  },
  {
   "cell_type": "code",
   "execution_count": 20,
   "metadata": {},
   "outputs": [],
   "source": [
    "def gradient(f,x,y):\n",
    "    g = autograd.grad\n",
    "    return np.r_[g(f,0)(x,y) , g(f,1)(x,y)]"
   ]
  },
  {
   "cell_type": "markdown",
   "metadata": {},
   "source": [
    "Et définissons aussi la recherche de zéro par la méthode de Newton.\n",
    "\n",
    "Le test d'arrêt choisi pour la méthode de Newton est un nombre d'itération, que l'on fixe par défaut à 10."
   ]
  },
  {
   "cell_type": "code",
   "execution_count": 21,
   "metadata": {},
   "outputs": [],
   "source": [
    "def newton(f,x0,n=10):\n",
    "    x = x0\n",
    "    deriv = autograd.grad(f)\n",
    "    for i in range(n):\n",
    "        x = x - f(x)/deriv(float(x))\n",
    "    return(x)"
   ]
  },
  {
   "cell_type": "markdown",
   "metadata": {},
   "source": [
    "Pour trouver le point suivant. Cela consiste essentiellement à initialiser la méthode de Newton. Pour ce faire, on prend le gradient de $f$ en $(x_0 , y_0)$. La tangente s'en déduit par la rotation d'angle $\\pi / 2$ i.e la transformation $(a,b) \\mapsto (-b,a)$ Après avoir normalisé le gradient, on définit donc le vecteur tangente."
   ]
  },
  {
   "cell_type": "code",
   "execution_count": 19,
   "metadata": {},
   "outputs": [],
   "source": [
    "def point_suivant(fc,c,x0,y0,delta):\n",
    "    gradi = gradient(fc,x0,y0)                                #on calcule le gradient de valeur (a,b)\n",
    "    gradi = gradi / sqrt( gradi[0]**2 + gradi[1]**2)          #on le normalise\n",
    "    tange = (-gradi[1] , gradi[0] )                           #on en déduit la tangente de valeur (-b,a)\n",
    "    theta0 = atan2(tange[1],tange[0])                         #on tire l'angle correspondant au point d'initialisation\n",
    "                                                              #si la tangente a pour valeur (x,y), l'angle est arctan(y/x)\n",
    "    \n",
    "    def g(theta):                                                               #ainsi défini, g(x) est la valeur de f le \n",
    "        return fc(x0+delta * np.cos(theta) , y0 + delta * np.sin(theta) ) - c   #long du cercle à l'angle x. On retire c\n",
    "                                                                                #pour appliquer newton à g\n",
    "    thetafinal = newton(g , theta0)\n",
    "    \n",
    "    return (x0 + delta * np.cos(thetafinal) , y0 + delta * np.sin(thetafinal) )"
   ]
  },
  {
   "cell_type": "markdown",
   "metadata": {},
   "source": [
    "Testons notre méthode sur la fonction de l'énoncé $(x,y) \\mapsto 2\\  (\\ e^{-x^2 - y^2} - e^{-(x-1)^2 - (y-1)^2} )$\n",
    "\n",
    "Suivons la courbe que l'on observe après éxécution de l'exemple $2$ ; la sorte d'ovale qui passe par le point $(-0.5 , 0)$"
   ]
  },
  {
   "cell_type": "code",
   "execution_count": 23,
   "metadata": {},
   "outputs": [
    {
     "data": {
      "image/png": "[encoded data removed]",
      "text/plain": [
       "<Figure size 432x288 with 1 Axes>"
      ]
     },
     "metadata": {
      "needs_background": "light"
     },
     "output_type": "display_data"
    }
   ],
   "source": [
    "def f(x,y):\n",
    "    return ( 2*(np.exp(-x**2-y**2) - np.exp(-(x-1)**2-(y-1)**2)))\n",
    "\n",
    "x0,y0 = -0.5 , 0.0\n",
    "X=[x0]\n",
    "Y=[y0]\n",
    "x,y = x0 , y0\n",
    "for i in range(50):\n",
    "    x,y = point_suivant(f,f(x0,y0),x,y,0.1)\n",
    "    X.append(x)\n",
    "    Y.append(y)\n",
    "\n",
    "plt.plot(X,Y)\n",
    "plt.axis('equal')\n",
    "plt.show()"
   ]
  }
 ],
 "metadata": {
  "celltoolbar": "Format de la Cellule Texte Brut",
  "kernelspec": {
   "display_name": "Python 3",
   "language": "python",
   "name": "python3"
  },
  "language_info": {
   "codemirror_mode": {
    "name": "ipython",
    "version": 3
   },
   "file_extension": ".py",
   "mimetype": "text/x-python",
   "name": "python",
   "nbconvert_exporter": "python",
   "pygments_lexer": "ipython3",
   "version": "3.7.3"
  }
 },
 "nbformat": 4,
 "nbformat_minor": 2
}
